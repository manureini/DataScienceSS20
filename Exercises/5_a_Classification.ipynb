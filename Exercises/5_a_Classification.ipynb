{
 "cells": [
  {
   "cell_type": "markdown",
   "metadata": {},
   "source": [
    "# Block 5 Exercise 1: Classification"
   ]
  },
  {
   "cell_type": "markdown",
   "metadata": {},
   "source": [
    "## MNIST Data\n",
    "In these exercises we are using the MNIST data set on handwritten digits to compare supervised classification algorithms...   "
   ]
  },
  {
   "cell_type": "code",
   "execution_count": 1,
   "metadata": {},
   "outputs": [],
   "source": [
    "#imports \n",
    "import matplotlib.pyplot as plt\n",
    "import numpy as np\n",
    "from sklearn.datasets import fetch_openml"
   ]
  },
  {
   "cell_type": "code",
   "execution_count": 2,
   "metadata": {},
   "outputs": [],
   "source": [
    "# Load data from https://www.openml.org/d/554\n",
    "X, y = fetch_openml('mnist_784', version=1, return_X_y=True)\n"
   ]
  },
  {
   "cell_type": "code",
   "execution_count": 3,
   "metadata": {},
   "outputs": [
    {
     "data": {
      "text/plain": [
       "(70000, 784)"
      ]
     },
     "execution_count": 3,
     "metadata": {},
     "output_type": "execute_result"
    }
   ],
   "source": [
    "#the full MNIST data set contains 70k samples of digits 0-9 as 28*28 gray scale images (represented as 784 dim vectors)\n",
    "np.shape(X)"
   ]
  },
  {
   "cell_type": "markdown",
   "metadata": {},
   "source": [
    "### E1.1: Use SkLearn methods to split the MNIST data into random train and test sets. Use 60k samples for training.  \n"
   ]
  },
  {
   "cell_type": "code",
   "execution_count": 4,
   "metadata": {},
   "outputs": [],
   "source": [
    "from sklearn.model_selection import train_test_split\n",
    "train_x, test_x, train_y, test_y = train_test_split(X, y, test_size=0.1) #10k test set also 10%"
   ]
  },
  {
   "cell_type": "markdown",
   "metadata": {},
   "source": [
    "### E1.2: Visualize the data.\n",
    "* Plot some data samples as images (use https://matplotlib.org/3.1.0/api/_as_gen/matplotlib.pyplot.imshow.html)"
   ]
  },
  {
   "cell_type": "code",
   "execution_count": 6,
   "metadata": {},
   "outputs": [
    {
     "data": {
      "text/plain": [
       "<matplotlib.image.AxesImage at 0x24c936e2f48>"
      ]
     },
     "execution_count": 6,
     "metadata": {},
     "output_type": "execute_result"
    },
    {
     "data": {
      "image/png": "[encoded data removed]",
      "text/plain": [
       "<Figure size 432x288 with 1 Axes>"
      ]
     },
     "metadata": {
      "needs_background": "light"
     },
     "output_type": "display_data"
    }
   ],
   "source": [
    "import matplotlib.pyplot as plt\n",
    "\n",
    "plt.imshow(np.reshape(train_x[0,:],(28,28)), cmap='gray')\n",
    "plt.imshow(np.reshape(train_x[1,:],(28,28)), cmap='gray')\n"
   ]
  },
  {
   "cell_type": "markdown",
   "metadata": {},
   "source": [
    "### E1.3: Train models on the train data.\n",
    "Train the following models with default parameters on the train data.\n",
    "* [Naive Bayes](https://scikit-learn.org/stable/modules/generated/sklearn.naive_bayes.GaussianNB.html#sklearn.naive_bayes.GaussianNB) (assuming a Gaussian distribution of the data)\n",
    "* [Simple linear model](https://scikit-learn.org/stable/modules/generated/sklearn.linear_model.SGDClassifier.html#sklearn.linear_model.SGDClassifier)\n",
    "   * use ``loss='log'`` to reproduce our logistic loss function \n",
    "* [Random Forest](https://scikit-learn.org/stable/modules/generated/sklearn.ensemble.RandomForestClassifier.html#sklearn.ensemble.RandomForestClassifier)\n",
    "\n",
    "Compare the training accuracy (https://scikit-learn.org/stable/modules/generated/sklearn.metrics.accuracy_score.html#sklearn.metrics.accuracy_score) and [confusion matrix](https://scikit-learn.org/stable/modules/generated/sklearn.metrics.confusion_matrix.html#sklearn.metrics.confusion_matrix) for all three models."
   ]
  },
  {
   "cell_type": "code",
   "execution_count": 7,
   "metadata": {},
   "outputs": [],
   "source": [
    "#define models\n",
    "from sklearn.naive_bayes import GaussianNB\n",
    "from sklearn import linear_model\n",
    "from sklearn.ensemble import RandomForestClassifier\n",
    "\n",
    "from sklearn.metrics import accuracy_score\n",
    "from sklearn.metrics import confusion_matrix"
   ]
  },
  {
   "cell_type": "code",
   "execution_count": 8,
   "metadata": {},
   "outputs": [
    {
     "data": {
      "text/plain": [
       "0.5564761904761905"
      ]
     },
     "execution_count": 8,
     "metadata": {},
     "output_type": "execute_result"
    }
   ],
   "source": [
    "naivebayes=GaussianNB()\n",
    "naivebayes.fit(train_x,train_y)\n",
    "\n",
    "naivebayes_predicted = naivebayes.predict(train_x)\n",
    "\n",
    "accuracy_score(train_y,naivebayes_predicted)"
   ]
  },
  {
   "cell_type": "code",
   "execution_count": 9,
   "metadata": {},
   "outputs": [
    {
     "data": {
      "text/plain": [
       "array([[5494,   11,   30,   19,   12,   16,  177,    4,  254,  142],\n",
       "       [   4, 6729,   14,   30,    3,   12,   78,    3,  160,   76],\n",
       "       [ 558,  178, 1815,  496,   30,   28, 1580,   17, 1437,  119],\n",
       "       [ 332,  329,   54, 2346,   10,   15,  298,   53, 2237,  765],\n",
       "       [ 151,   41,   48,   32,  991,   36,  547,   25, 1237, 3041],\n",
       "       [ 621,  150,   30,  129,   25,  300,  300,   10, 3446,  684],\n",
       "       [  50,  107,   28,    2,    5,   23, 5825,    0,  131,    9],\n",
       "       [  25,   45,    9,   54,   52,    6,   21, 1910,  187, 4245],\n",
       "       [  97,  803,   23,   55,   22,   35,  101,    9, 3672, 1346],\n",
       "       [  33,   33,   20,   12,   28,    3,    4,   79,  106, 5976]],\n",
       "      dtype=int64)"
      ]
     },
     "execution_count": 9,
     "metadata": {},
     "output_type": "execute_result"
    }
   ],
   "source": [
    "confusion_matrix(train_y,naivebayes_predicted)"
   ]
  },
  {
   "cell_type": "code",
   "execution_count": 10,
   "metadata": {},
   "outputs": [
    {
     "data": {
      "text/plain": [
       "0.8911111111111111"
      ]
     },
     "execution_count": 10,
     "metadata": {},
     "output_type": "execute_result"
    }
   ],
   "source": [
    "linear=linear_model.SGDClassifier(loss='log')\n",
    "linear.fit(train_x,train_y)\n",
    "linear_predicted = linear.predict(train_x)\n",
    "accuracy_score(train_y,linear_predicted)"
   ]
  },
  {
   "cell_type": "code",
   "execution_count": 11,
   "metadata": {},
   "outputs": [
    {
     "data": {
      "text/plain": [
       "array([[5680,    1,   15,  175,   10,   35,   38,    3,  123,   79],\n",
       "       [   1, 6912,   29,   59,    8,   26,   11,    6,   39,   18],\n",
       "       [  10,   46, 5262,  339,   79,   32,  116,   35,  290,   49],\n",
       "       [   3,   10,   56, 6065,   14,  107,   13,   20,   58,   93],\n",
       "       [   1,   12,   14,   23, 5846,    9,   31,    4,   34,  175],\n",
       "       [  14,   17,   24,  463,  100, 4711,  112,   17,  136,  101],\n",
       "       [  20,    7,   14,   24,   57,  111, 5893,    3,   40,   11],\n",
       "       [  11,   18,   29,  198,   98,   26,    9, 5390,   38,  737],\n",
       "       [  12,   62,   27,  651,   78,  282,   40,   14, 4671,  326],\n",
       "       [  14,   15,    8,  169,  234,   49,    3,   69,   23, 5710]],\n",
       "      dtype=int64)"
      ]
     },
     "execution_count": 11,
     "metadata": {},
     "output_type": "execute_result"
    }
   ],
   "source": [
    "confusion_matrix(train_y,linear_predicted)"
   ]
  },
  {
   "cell_type": "code",
   "execution_count": 12,
   "metadata": {},
   "outputs": [
    {
     "data": {
      "text/plain": [
       "0.9991904761904762"
      ]
     },
     "execution_count": 12,
     "metadata": {},
     "output_type": "execute_result"
    }
   ],
   "source": [
    "rf=RandomForestClassifier(n_estimators=10)\n",
    "rf.fit(train_x,train_y)\n",
    "rf_predicted = rf.predict(train_x)\n",
    "accuracy_score(train_y,rf_predicted)"
   ]
  },
  {
   "cell_type": "code",
   "execution_count": 13,
   "metadata": {},
   "outputs": [
    {
     "data": {
      "text/plain": [
       "array([[6159,    0,    0,    0,    0,    0,    0,    0,    0,    0],\n",
       "       [   0, 7103,    3,    0,    0,    0,    0,    0,    3,    0],\n",
       "       [   0,    0, 6257,    0,    0,    0,    0,    1,    0,    0],\n",
       "       [   2,    1,    1, 6433,    0,    0,    0,    0,    1,    1],\n",
       "       [   0,    0,    0,    0, 6146,    0,    0,    0,    1,    2],\n",
       "       [   0,    0,    0,    0,    1, 5693,    0,    0,    1,    0],\n",
       "       [   1,    1,    1,    0,    0,    3, 6174,    0,    0,    0],\n",
       "       [   2,    0,    3,    2,    1,    0,    0, 6545,    1,    0],\n",
       "       [   0,    1,    3,    0,    4,    0,    1,    0, 6154,    0],\n",
       "       [   2,    1,    1,    1,    2,    1,    0,    1,    0, 6285]],\n",
       "      dtype=int64)"
      ]
     },
     "execution_count": 13,
     "metadata": {},
     "output_type": "execute_result"
    }
   ],
   "source": [
    "confusion_matrix(train_y,rf_predicted)"
   ]
  },
  {
   "cell_type": "markdown",
   "metadata": {},
   "source": [
    "### E1.4: Evaluate and compare the models on the test set.\n",
    "* compute the test [accuracy](https://scikit-learn.org/stable/modules/generated/sklearn.metrics.accuracy_score.html#sklearn.metrics.accuracy_score) \n",
    "* compute the [F-Measure](https://scikit-learn.org/stable/modules/generated/sklearn.metrics.f1_score.html#sklearn.metrics.f1_score)\n",
    "* plot a [ROC curves](https://scikit-learn.org/stable/modules/generated/sklearn.metrics.roc_curve.html#sklearn.metrics.roc_curve) for the class \"5\" for all three models.\n",
    "                          "
   ]
  },
  {
   "cell_type": "code",
   "execution_count": 14,
   "metadata": {},
   "outputs": [],
   "source": [
    "from sklearn.metrics import f1_score\n",
    "from sklearn import metrics"
   ]
  },
  {
   "cell_type": "code",
   "execution_count": 15,
   "metadata": {},
   "outputs": [],
   "source": [
    "naivebayes_acc=accuracy_score(test_y,naivebayes.predict(test_x))\n",
    "naivebayes_f1=f1_score(test_y,naivebayes.predict(test_x),average='micro')\n",
    "\n",
    "linear_acc=accuracy_score(test_y,linear.predict(test_x))\n",
    "linear_f1=f1_score(test_y,linear.predict(test_x),average='micro')\n",
    "\n",
    "rf_acc=accuracy_score(test_y,rf.predict(test_x))\n",
    "rf_f1=f1_score(test_y,rf.predict(test_x),average='micro')"
   ]
  },
  {
   "cell_type": "code",
   "execution_count": 16,
   "metadata": {},
   "outputs": [
    {
     "data": {
      "text/plain": [
       "0.5562857142857143"
      ]
     },
     "execution_count": 16,
     "metadata": {},
     "output_type": "execute_result"
    }
   ],
   "source": [
    "naivebayes_acc"
   ]
  },
  {
   "cell_type": "code",
   "execution_count": 17,
   "metadata": {},
   "outputs": [
    {
     "data": {
      "text/plain": [
       "0.5562857142857143"
      ]
     },
     "execution_count": 17,
     "metadata": {},
     "output_type": "execute_result"
    }
   ],
   "source": [
    "naivebayes_f1"
   ]
  },
  {
   "cell_type": "code",
   "execution_count": 18,
   "metadata": {},
   "outputs": [
    {
     "data": {
      "text/plain": [
       "0.8775714285714286"
      ]
     },
     "execution_count": 18,
     "metadata": {},
     "output_type": "execute_result"
    }
   ],
   "source": [
    "linear_acc"
   ]
  },
  {
   "cell_type": "code",
   "execution_count": 19,
   "metadata": {},
   "outputs": [
    {
     "data": {
      "text/plain": [
       "0.8775714285714286"
      ]
     },
     "execution_count": 19,
     "metadata": {},
     "output_type": "execute_result"
    }
   ],
   "source": [
    "linear_f1"
   ]
  },
  {
   "cell_type": "code",
   "execution_count": 20,
   "metadata": {},
   "outputs": [
    {
     "data": {
      "text/plain": [
       "0.9501428571428572"
      ]
     },
     "execution_count": 20,
     "metadata": {},
     "output_type": "execute_result"
    }
   ],
   "source": [
    "rf_acc"
   ]
  },
  {
   "cell_type": "code",
   "execution_count": 21,
   "metadata": {},
   "outputs": [
    {
     "data": {
      "text/plain": [
       "0.9501428571428572"
      ]
     },
     "execution_count": 21,
     "metadata": {},
     "output_type": "execute_result"
    }
   ],
   "source": [
    "rf_f1"
   ]
  },
  {
   "cell_type": "code",
   "execution_count": 29,
   "metadata": {},
   "outputs": [],
   "source": [
    "from sklearn.metrics import *\n",
    "\n",
    "\n",
    "y_five = test_y=='5' #get bool lables=='5' - NOTE original lables are strings!\n",
    "bayes_five = naivebayes.predict(test_x).astype(int)==5 #get bool for predictions - cast to int because predictions are uint\n",
    "linear_five = linear.predict(test_x).astype(int)==5\n",
    "rf_five = rf.predict(test_x).astype(int)==5\n",
    "\n",
    "bayes_fpr, bayes_tpr, _ = roc_curve(y_five, bayes_five)\n",
    "bayes_roc_auc = auc(bayes_fpr, bayes_tpr)\n",
    "linear_fpr, linear_tpr, _ = roc_curve(y_five, linear_five)\n",
    "linear_roc_auc = auc(linear_fpr, linear_tpr)\n",
    "rf_fpr, rf_tpr, _ = roc_curve(y_five, rf_five)\n",
    "rf_roc_auc = auc(rf_fpr, rf_tpr)\n"
   ]
  },
  {
   "cell_type": "code",
   "execution_count": 34,
   "metadata": {},
   "outputs": [
    {
     "data": {
      "image/png": "[encoded data removed]",
      "text/plain": [
       "<Figure size 432x288 with 1 Axes>"
      ]
     },
     "metadata": {
      "needs_background": "light"
     },
     "output_type": "display_data"
    }
   ],
   "source": [
    "lw = 2\n",
    "plt.plot(bayes_fpr, bayes_tpr, color='darkorange',\n",
    "         lw=lw, label='Bayes (area = %0.2f)' % bayes_roc_auc)\n",
    "plt.plot(linear_fpr, linear_tpr, color='blue',\n",
    "         lw=lw, label='Linear (area = %0.2f)' % linear_roc_auc)\n",
    "plt.plot(rf_fpr, rf_tpr, color='red',\n",
    "         lw=lw, label='RF (area = %0.2f)' % rf_roc_auc)\n",
    "plt.xlabel('False Positive')\n",
    "plt.ylabel('True Positive')\n",
    "plt.legend(loc=\"best\")\n",
    "plt.show()"
   ]
  },
  {
   "cell_type": "code",
   "execution_count": null,
   "metadata": {},
   "outputs": [],
   "source": []
  },
  {
   "cell_type": "code",
   "execution_count": null,
   "metadata": {},
   "outputs": [],
   "source": []
  },
  {
   "cell_type": "code",
   "execution_count": null,
   "metadata": {},
   "outputs": [],
   "source": []
  }
 ],
 "metadata": {
  "kernelspec": {
   "display_name": "Python 3",
   "language": "python",
   "name": "python3"
  },
  "language_info": {
   "codemirror_mode": {
    "name": "ipython",
    "version": 3
   },
   "file_extension": ".py",
   "mimetype": "text/x-python",
   "name": "python",
   "nbconvert_exporter": "python",
   "pygments_lexer": "ipython3",
   "version": "3.7.7"
  }
 },
 "nbformat": 4,
 "nbformat_minor": 4
}
